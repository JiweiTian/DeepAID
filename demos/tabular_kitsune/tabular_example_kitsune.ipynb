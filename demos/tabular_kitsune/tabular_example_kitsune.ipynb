{
 "cells": [
  {
   "cell_type": "markdown",
   "id": "0f0a1d8b",
   "metadata": {},
   "source": [
    "This exmaple will show you how to use DeepAID Interpreter upon a SOTA NIDS *Kitsune* (NDSS'18).\n",
    "\n",
    "We simplify the DL model to a single autoencoder for ease of illustration."
   ]
  },
  {
   "cell_type": "markdown",
   "id": "cf8cca62",
   "metadata": {},
   "source": [
    " # Prepare your DL model"
   ]
  },
  {
   "cell_type": "code",
   "execution_count": 1,
   "id": "b71e28fd",
   "metadata": {},
   "outputs": [],
   "source": [
    "%matplotlib inline\n",
    "%load_ext autoreload\n",
    "%autoreload 2\n",
    "import warnings\n",
    "warnings.filterwarnings('ignore')"
   ]
  },
  {
   "cell_type": "code",
   "execution_count": 2,
   "id": "31d1b0d8",
   "metadata": {},
   "outputs": [
    {
     "name": "stdout",
     "output_type": "stream",
     "text": [
      "epoch:0/0 |Loss: 0.05268596485257149\n",
      "epoch:0/10 |Loss: 0.038875702768564224\n",
      "epoch:0/20 |Loss: 0.02800586447119713\n",
      "epoch:0/30 |Loss: 0.019137471914291382\n",
      "epoch:0/40 |Loss: 0.013119821436703205\n",
      "epoch:0/50 |Loss: 0.011787918396294117\n",
      "epoch:0/60 |Loss: 0.011087916791439056\n",
      "epoch:0/70 |Loss: 0.016274716705083847\n",
      "epoch:0/80 |Loss: 0.010826447047293186\n",
      "epoch:0/90 |Loss: 0.011665377765893936\n",
      "epoch:0/100 |Loss: 0.00820077396929264\n",
      "epoch:0/110 |Loss: 0.0077263531275093555\n",
      "epoch:0/120 |Loss: 0.006486760918051004\n",
      "epoch:0/130 |Loss: 0.006559732370078564\n",
      "epoch:0/140 |Loss: 0.009137896820902824\n",
      "epoch:0/150 |Loss: 0.00674570444971323\n",
      "epoch:0/160 |Loss: 0.005693730432540178\n",
      "epoch:0/170 |Loss: 0.008413181640207767\n",
      "epoch:0/180 |Loss: 0.0062520685605704784\n",
      "epoch:0/190 |Loss: 0.006704980041831732\n",
      "epoch:0/200 |Loss: 0.00722694955766201\n",
      "epoch:0/210 |Loss: 0.007843305356800556\n",
      "epoch:0/220 |Loss: 0.004778577014803886\n",
      "epoch:0/230 |Loss: 0.006882736925035715\n",
      "epoch:0/240 |Loss: 0.007543434388935566\n",
      "epoch:0/250 |Loss: 0.005415499210357666\n",
      "epoch:0/260 |Loss: 0.005295922514051199\n",
      "epoch:0/270 |Loss: 0.0038734134286642075\n",
      "epoch:0/280 |Loss: 0.006138238590210676\n",
      "epoch:0/290 |Loss: 0.004153221379965544\n",
      "epoch:0/300 |Loss: 0.0047179777175188065\n",
      "epoch:0/310 |Loss: 0.0037234609480947256\n",
      "epoch:0/320 |Loss: 0.0030959509313106537\n",
      "epoch:0/330 |Loss: 0.0054864585399627686\n",
      "epoch:0/340 |Loss: 0.004815289750695229\n",
      "epoch:0/350 |Loss: 0.00336133292876184\n",
      "epoch:0/360 |Loss: 0.004170896951109171\n",
      "epoch:0/370 |Loss: 0.0041743079200387\n",
      "epoch:0/380 |Loss: 0.0042870743200182915\n",
      "epoch:0/390 |Loss: 0.00396275520324707\n",
      "epoch:1/0 |Loss: 0.003512842580676079\n",
      "epoch:1/10 |Loss: 0.0033579193986952305\n",
      "epoch:1/20 |Loss: 0.003998669795691967\n",
      "epoch:1/30 |Loss: 0.0038408292457461357\n",
      "epoch:1/40 |Loss: 0.0028824752662330866\n",
      "epoch:1/50 |Loss: 0.0038749075029045343\n",
      "epoch:1/60 |Loss: 0.0027049172203987837\n",
      "epoch:1/70 |Loss: 0.0026189559139311314\n",
      "epoch:1/80 |Loss: 0.002837591106072068\n",
      "epoch:1/90 |Loss: 0.002330073621124029\n",
      "epoch:1/100 |Loss: 0.003476919373497367\n",
      "epoch:1/110 |Loss: 0.0025901489425450563\n",
      "epoch:1/120 |Loss: 0.002875429345294833\n",
      "epoch:1/130 |Loss: 0.0037702189292758703\n",
      "epoch:1/140 |Loss: 0.0026757747400552034\n",
      "epoch:1/150 |Loss: 0.002575860358774662\n",
      "epoch:1/160 |Loss: 0.0019348665373399854\n",
      "epoch:1/170 |Loss: 0.0038142867852002382\n",
      "epoch:1/180 |Loss: 0.0021743960678577423\n",
      "epoch:1/190 |Loss: 0.00225612404756248\n",
      "epoch:1/200 |Loss: 0.0021536548156291246\n",
      "epoch:1/210 |Loss: 0.002814456820487976\n",
      "epoch:1/220 |Loss: 0.002837002743035555\n",
      "epoch:1/230 |Loss: 0.0025255370419472456\n",
      "epoch:1/240 |Loss: 0.0025000358000397682\n",
      "epoch:1/250 |Loss: 0.0029129472095519304\n",
      "epoch:1/260 |Loss: 0.003190347459167242\n",
      "epoch:1/270 |Loss: 0.002340496052056551\n",
      "epoch:1/280 |Loss: 0.0024396032094955444\n",
      "epoch:1/290 |Loss: 0.002945982152596116\n",
      "epoch:1/300 |Loss: 0.001658438122831285\n",
      "epoch:1/310 |Loss: 0.0017210874939337373\n",
      "epoch:1/320 |Loss: 0.002350102411583066\n",
      "epoch:1/330 |Loss: 0.0023983060382306576\n",
      "epoch:1/340 |Loss: 0.0017429948784410954\n",
      "epoch:1/350 |Loss: 0.0013700432609766722\n",
      "epoch:1/360 |Loss: 0.0024089100770652294\n",
      "epoch:1/370 |Loss: 0.0017209781799465418\n",
      "epoch:1/380 |Loss: 0.0015660120407119393\n",
      "epoch:1/390 |Loss: 0.0018869972554966807\n",
      "epoch:2/0 |Loss: 0.002751364838331938\n",
      "epoch:2/10 |Loss: 0.002729741856455803\n",
      "epoch:2/20 |Loss: 0.002131714252755046\n",
      "epoch:2/30 |Loss: 0.0013922177022323012\n",
      "epoch:2/40 |Loss: 0.002085657324641943\n",
      "epoch:2/50 |Loss: 0.0012987809022888541\n",
      "epoch:2/60 |Loss: 0.002402951940894127\n",
      "epoch:2/70 |Loss: 0.0013074451126158237\n",
      "epoch:2/80 |Loss: 0.0020411924924701452\n",
      "epoch:2/90 |Loss: 0.0014543923316523433\n",
      "epoch:2/100 |Loss: 0.0018617096357047558\n",
      "epoch:2/110 |Loss: 0.001407882198691368\n",
      "epoch:2/120 |Loss: 0.0016106879338622093\n",
      "epoch:2/130 |Loss: 0.0020694993436336517\n",
      "epoch:2/140 |Loss: 0.0015189828118309379\n",
      "epoch:2/150 |Loss: 0.0019230988109484315\n",
      "epoch:2/160 |Loss: 0.0016554668545722961\n",
      "epoch:2/170 |Loss: 0.001914872438646853\n",
      "epoch:2/180 |Loss: 0.0014094396028667688\n",
      "epoch:2/190 |Loss: 0.001306942431256175\n",
      "epoch:2/200 |Loss: 0.0018404748989269137\n",
      "epoch:2/210 |Loss: 0.0021357345394790173\n",
      "epoch:2/220 |Loss: 0.0014866053825244308\n",
      "epoch:2/230 |Loss: 0.0024637177120894194\n",
      "epoch:2/240 |Loss: 0.0018372113117948174\n",
      "epoch:2/250 |Loss: 0.001612833351828158\n",
      "epoch:2/260 |Loss: 0.0014543160796165466\n",
      "epoch:2/270 |Loss: 0.0024126372300088406\n",
      "epoch:2/280 |Loss: 0.0011360341450199485\n",
      "epoch:2/290 |Loss: 0.0012811491033062339\n",
      "epoch:2/300 |Loss: 0.0016304472228512168\n",
      "epoch:2/310 |Loss: 0.0018047216581180692\n",
      "epoch:2/320 |Loss: 0.001341184601187706\n",
      "epoch:2/330 |Loss: 0.0015665116952732205\n",
      "epoch:2/340 |Loss: 0.001999816857278347\n",
      "epoch:2/350 |Loss: 0.0013926072278991342\n",
      "epoch:2/360 |Loss: 0.001625646953471005\n",
      "epoch:2/370 |Loss: 0.001782081089913845\n",
      "epoch:2/380 |Loss: 0.0018660490168258548\n",
      "epoch:2/390 |Loss: 0.002033216180279851\n",
      "epoch:3/0 |Loss: 0.001592890010215342\n",
      "epoch:3/10 |Loss: 0.0014952991623431444\n",
      "epoch:3/20 |Loss: 0.0016584864351898432\n",
      "epoch:3/30 |Loss: 0.0016807048814371228\n",
      "epoch:3/40 |Loss: 0.0011754564475268126\n",
      "epoch:3/50 |Loss: 0.0015954328700900078\n",
      "epoch:3/60 |Loss: 0.0014157631667330861\n",
      "epoch:3/70 |Loss: 0.0014351033605635166\n",
      "epoch:3/80 |Loss: 0.002001088811084628\n",
      "epoch:3/90 |Loss: 0.0017973249778151512\n",
      "epoch:3/100 |Loss: 0.0021423446014523506\n",
      "epoch:3/110 |Loss: 0.0012192047433927655\n",
      "epoch:3/120 |Loss: 0.001596992602571845\n",
      "epoch:3/130 |Loss: 0.0012346827425062656\n",
      "epoch:3/140 |Loss: 0.001789179048500955\n",
      "epoch:3/150 |Loss: 0.0014583143638446927\n",
      "epoch:3/160 |Loss: 0.001340598682872951\n",
      "epoch:3/170 |Loss: 0.0014572651125490665\n",
      "epoch:3/180 |Loss: 0.0013506131945177913\n",
      "epoch:3/190 |Loss: 0.001846404280513525\n",
      "epoch:3/200 |Loss: 0.001055179163813591\n",
      "epoch:3/210 |Loss: 0.0014533328358083963\n",
      "epoch:3/220 |Loss: 0.0017521558329463005\n",
      "epoch:3/230 |Loss: 0.0012832909123972058\n",
      "epoch:3/240 |Loss: 0.0013443271163851023\n",
      "epoch:3/250 |Loss: 0.0011985893361270428\n",
      "epoch:3/260 |Loss: 0.001200385275296867\n",
      "epoch:3/270 |Loss: 0.0011344107333570719\n",
      "epoch:3/280 |Loss: 0.0016259265830740333\n",
      "epoch:3/290 |Loss: 0.0016417859587818384\n",
      "epoch:3/300 |Loss: 0.001010717824101448\n",
      "epoch:3/310 |Loss: 0.0014309247490018606\n",
      "epoch:3/320 |Loss: 0.0015516831772401929\n",
      "epoch:3/330 |Loss: 0.0010757800191640854\n",
      "epoch:3/340 |Loss: 0.0014283732743933797\n",
      "epoch:3/350 |Loss: 0.0013925876701250672\n",
      "epoch:3/360 |Loss: 0.0012799353571608663\n",
      "epoch:3/370 |Loss: 0.001304046018049121\n",
      "epoch:3/380 |Loss: 0.001999323023483157\n",
      "epoch:3/390 |Loss: 0.0014072833582758904\n",
      "epoch:4/0 |Loss: 0.001189927919767797\n",
      "epoch:4/10 |Loss: 0.0012338081141933799\n",
      "epoch:4/20 |Loss: 0.0017678692238405347\n",
      "epoch:4/30 |Loss: 0.0011049164459109306\n",
      "epoch:4/40 |Loss: 0.0017221564194187522\n",
      "epoch:4/50 |Loss: 0.0012781425612047315\n",
      "epoch:4/60 |Loss: 0.0014770310372114182\n",
      "epoch:4/70 |Loss: 0.001393609563820064\n",
      "epoch:4/80 |Loss: 0.0018083531176671386\n",
      "epoch:4/90 |Loss: 0.0010120267979800701\n",
      "epoch:4/100 |Loss: 0.0017871870659291744\n",
      "epoch:4/110 |Loss: 0.0015812369529157877\n",
      "epoch:4/120 |Loss: 0.0013908767141401768\n",
      "epoch:4/130 |Loss: 0.002701323013752699\n",
      "epoch:4/140 |Loss: 0.00137805484700948\n",
      "epoch:4/150 |Loss: 0.0009944805642589927\n",
      "epoch:4/160 |Loss: 0.0012879394926130772\n",
      "epoch:4/170 |Loss: 0.001221948186866939\n",
      "epoch:4/180 |Loss: 0.001181396539323032\n",
      "epoch:4/190 |Loss: 0.0016133806202560663\n",
      "epoch:4/200 |Loss: 0.0010952784214168787\n",
      "epoch:4/210 |Loss: 0.0011808713898062706\n",
      "epoch:4/220 |Loss: 0.0016544670797884464\n",
      "epoch:4/230 |Loss: 0.0013548898277804255\n",
      "epoch:4/240 |Loss: 0.0017800107598304749\n",
      "epoch:4/250 |Loss: 0.0013727865880355239\n",
      "epoch:4/260 |Loss: 0.0017124384175986052\n",
      "epoch:4/270 |Loss: 0.0012663027737289667\n",
      "epoch:4/280 |Loss: 0.0009424292366020381\n",
      "epoch:4/290 |Loss: 0.0011248085647821426\n",
      "epoch:4/300 |Loss: 0.0018448021728545427\n",
      "epoch:4/310 |Loss: 0.0014079335378482938\n",
      "epoch:4/320 |Loss: 0.0012182636419311166\n",
      "epoch:4/330 |Loss: 0.0020480335224419832\n",
      "epoch:4/340 |Loss: 0.0010243039578199387\n",
      "epoch:4/350 |Loss: 0.0011792680015787482\n",
      "epoch:4/360 |Loss: 0.00199753581546247\n",
      "epoch:4/370 |Loss: 0.001637497334741056\n",
      "epoch:4/380 |Loss: 0.0011590258218348026\n",
      "epoch:4/390 |Loss: 0.0017653924878686666\n",
      "max AD score 0.40241277\n",
      "thres: 0.30030906\n"
     ]
    }
   ],
   "source": [
    "# Train an autoencoder-based DL model\n",
    "import numpy as np\n",
    "import torch\n",
    "from autoencoder import train, test, test_plot\n",
    "import sys\n",
    "sys.path.append('../../deepaid/')\n",
    "from utils import validate_by_rmse, Normalizer\n",
    "train_feat = np.load('data/train_benign_feat.npy')\n",
    "normer = Normalizer(train_feat.shape[-1],online_minmax=True)\n",
    "train_feat = normer.fit_transform(train_feat)\n",
    "model, thres = train(train_feat, train_feat.shape[-1])\n",
    "torch.save({'net':model,'thres':thres},'./save/autoencoder.pth.tar')"
   ]
  },
  {
   "cell_type": "code",
   "execution_count": 3,
   "id": "cec19f07",
   "metadata": {},
   "outputs": [
    {
     "data": {
      "image/png": "[encoded data removed]",
      "text/plain": [
       "<Figure size 432x288 with 1 Axes>"
      ]
     },
     "metadata": {
      "needs_background": "light"
     },
     "output_type": "display_data"
    }
   ],
   "source": [
    "# Validate the performance of trained model\n",
    "test_feat = np.load('data/test_mirai_ddos.npy')\n",
    "test_feat = normer.transform(test_feat)\n",
    "rmse_vec = test(model,thres,test_feat)\n",
    "test_plot(test_feat, rmse_vec, thres) # ACC = 0.84"
   ]
  },
  {
   "cell_type": "markdown",
   "id": "2f5f07e7",
   "metadata": {},
   "source": [
    "# Interpret your interested anomaly in four steps "
   ]
  },
  {
   "cell_type": "code",
   "execution_count": 4,
   "id": "659b1aa0",
   "metadata": {},
   "outputs": [
    {
     "name": "stdout",
     "output_type": "stream",
     "text": [
      "Successfully Initialize <Tabular Interptreter> for Model <autoencoder>\n",
      "Finish Interpretation after 313 steps (Final loss: 0.03, Time elasped: 0.78s)\n",
      "\n",
      "Visualize Interpretation (Table View)\n",
      "+---------------------+------------------+-------+--------------------+\n",
      "| Feature Description | Value in Anomaly | comp. | Value in Reference |\n",
      "+---------------------+------------------+-------+--------------------+\n",
      "|  MI_dir_0.1_weight  |     3245.195     |   >   |       362.81       |\n",
      "|  MI_dir_0.01_weight |    23265.329     |   >   |      2130.464      |\n",
      "|  MI_dir_1.0_weight  |     401.096      |   >   |       85.438       |\n",
      "|  MI_dir_3.0_weight  |     180.965      |   >   |       42.905       |\n",
      "|  MI_dir_5.0_weight  |     128.087      |   >   |       37.593       |\n",
      "+---------------------+------------------+-------+--------------------+\n",
      "\n",
      "Visualize Interpretation (Plot View)\n"
     ]
    },
    {
     "data": {
      "image/png": "[encoded data removed]",
      "text/plain": [
       "<Figure size 432x288 with 1 Axes>"
      ]
     },
     "metadata": {
      "needs_background": "light"
     },
     "output_type": "display_data"
    },
    {
     "name": "stdout",
     "output_type": "stream",
     "text": [
      "\n",
      "Visualize Interpretation (HeatMap View)\n"
     ]
    },
    {
     "data": {
      "image/png": "[encoded data removed]",
      "text/plain": [
       "<Figure size 1440x360 with 1 Axes>"
      ]
     },
     "metadata": {
      "needs_background": "light"
     },
     "output_type": "display_data"
    }
   ],
   "source": [
    "\"\"\"Step 1: Load your model\"\"\"\n",
    "from autoencoder import autoencoder\n",
    "from utils import Normalizer\n",
    "model_dict = torch.load('save/autoencoder.pth.tar')\n",
    "model = model_dict['net']\n",
    "thres = model_dict['thres']\n",
    "\n",
    "\"\"\"Step 2: Find an anomaly you are interested in\"\"\"\n",
    "anomaly = test_feat[np.argsort(rmse_vec)[-100]]\n",
    "\n",
    "\"\"\"Step 3: Create a DeepAID Tabular Interpreter\"\"\"\n",
    "import sys\n",
    "sys.path.append(\"../../deepaid/interpreters/\")\n",
    "from tabular import TabularAID\n",
    "feature_desc = np.load('data/AI_feature_name.npy') # feature_description\n",
    "my_interpreter = TabularAID(model,thres,input_size=100,feature_desc=feature_desc)\n",
    "\n",
    "\"\"\"Step 4: Interpret your anomaly and show the result\"\"\"\n",
    "interpretation = my_interpreter(anomaly)\n",
    "# DeepAID supports three kinds of visualization of results:\n",
    "my_interpreter.show_table(anomaly,interpretation, normer) \n",
    "my_interpreter.show_plot(anomaly, interpretation, normer)\n",
    "my_interpreter.show_heatmap(anomaly,interpretation, normer)\n"
   ]
  }
 ],
 "metadata": {
  "hide_input": false,
  "kernelspec": {
   "display_name": "Python 3 (ipykernel)",
   "language": "python",
   "name": "python3"
  },
  "language_info": {
   "codemirror_mode": {
    "name": "ipython",
    "version": 3
   },
   "file_extension": ".py",
   "mimetype": "text/x-python",
   "name": "python",
   "nbconvert_exporter": "python",
   "pygments_lexer": "ipython3",
   "version": "3.7.11"
  },
  "varInspector": {
   "cols": {
    "lenName": 16,
    "lenType": 16,
    "lenVar": 40
   },
   "kernels_config": {
    "python": {
     "delete_cmd_postfix": "",
     "delete_cmd_prefix": "del ",
     "library": "var_list.py",
     "varRefreshCmd": "print(var_dic_list())"
    },
    "r": {
     "delete_cmd_postfix": ") ",
     "delete_cmd_prefix": "rm(",
     "library": "var_list.r",
     "varRefreshCmd": "cat(var_dic_list()) "
    }
   },
   "types_to_exclude": [
    "module",
    "function",
    "builtin_function_or_method",
    "instance",
    "_Feature"
   ],
   "window_display": false
  }
 },
 "nbformat": 4,
 "nbformat_minor": 5
}
