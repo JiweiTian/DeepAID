{
 "cells": [
  {
   "cell_type": "markdown",
   "id": "c8e5cefd",
   "metadata": {},
   "source": [
    "This example shows how to interpret anomalies in *tabular* data. \n",
    "\n",
    "To verify the effectiveness of DeepAID, we use a synthetic dataset here."
   ]
  },
  {
   "cell_type": "markdown",
   "id": "e0b12e99",
   "metadata": {},
   "source": [
    "# Generate a synthetic dataset"
   ]
  },
  {
   "cell_type": "code",
   "execution_count": 1,
   "id": "11a8f334",
   "metadata": {},
   "outputs": [
    {
     "name": "stdout",
     "output_type": "stream",
     "text": [
      "X.shape: (5050, 100)\n",
      "perturb index: [25, 30, 40, 42, 47, 51, 58, 75, 78, 84]\n"
     ]
    },
    {
     "data": {
      "image/png": "[encoded data removed]",
      "text/plain": [
       "<Figure size 432x288 with 1 Axes>"
      ]
     },
     "metadata": {
      "needs_background": "light"
     },
     "output_type": "display_data"
    }
   ],
   "source": [
    "%matplotlib inline\n",
    "%load_ext autoreload\n",
    "%autoreload 2\n",
    "from sklearn.datasets import make_blobs\n",
    "import matplotlib.pyplot as plt\n",
    "from sklearn.decomposition import PCA\n",
    "import random \n",
    "\n",
    "# Generate Gaussian blobs (single cluster) consists 5050 100-dimension samples\n",
    "X, _ = make_blobs(n_samples=5050, centers=1, n_features=100,\n",
    "                  random_state=0, cluster_std=2.)\n",
    "print('X.shape:',X.shape)\n",
    "\n",
    "# first 5000 samples are used for training\n",
    "X_train = X[:-50,:]\n",
    "\n",
    "# generate anomalies by randomly perturbing 10 dimensions (1%) in the last 50 samples\n",
    "random.seed(0)\n",
    "noise_idx = random.choices(list(range(100)),k=10)\n",
    "noise_idx.sort()\n",
    "print('perturb index:',noise_idx)\n",
    "noise_data = np.random.uniform(-20,-20,(50,10))\n",
    "X_anomaly = X[-50:,:]\n",
    "X_anomaly[:,noise_idx] += noise_data\n",
    "\n",
    "# visualize anomaly and normal training data in 2D space \n",
    "X_train_plot = X_train[:, noise_idx]\n",
    "pca = PCA(n_components=2).fit(X_train_plot)\n",
    "plt.scatter(X_train_plot[:, 0], X_train_plot[:, 1], alpha=0.5, s=3, label=\"training data (normal)\")\n",
    "X_anomaly_plot = X_anomaly[:,noise_idx]\n",
    "pca = PCA(n_components=2).fit(X_anomaly_plot)\n",
    "plt.scatter(X_anomaly_plot[:, 0], X_anomaly_plot[:, 1], alpha=1., s=4, c=\"r\", label=\"anomaly\")\n",
    "plt.legend()\n",
    "plt.show()"
   ]
  },
  {
   "cell_type": "markdown",
   "id": "29f78dc2",
   "metadata": {},
   "source": [
    "# Prepare a DL model for anomaly detection"
   ]
  },
  {
   "cell_type": "code",
   "execution_count": 2,
   "id": "f744a792",
   "metadata": {},
   "outputs": [
    {
     "name": "stdout",
     "output_type": "stream",
     "text": [
      "epoch:0/0 |Loss: 0.26237112283706665\n",
      "epoch:0/10 |Loss: 0.2075444906949997\n",
      "epoch:0/20 |Loss: 0.11678075790405273\n",
      "epoch:0/30 |Loss: 0.05031336098909378\n",
      "epoch:1/0 |Loss: 0.022357448935508728\n",
      "epoch:1/10 |Loss: 0.0199805349111557\n",
      "epoch:1/20 |Loss: 0.019374139606952667\n",
      "epoch:1/30 |Loss: 0.019081367179751396\n",
      "epoch:2/0 |Loss: 0.018610989674925804\n",
      "epoch:2/10 |Loss: 0.019154172390699387\n",
      "epoch:2/20 |Loss: 0.018798138946294785\n",
      "epoch:2/30 |Loss: 0.019007286056876183\n",
      "epoch:3/0 |Loss: 0.019224878400564194\n",
      "epoch:3/10 |Loss: 0.01851881854236126\n",
      "epoch:3/20 |Loss: 0.018860511481761932\n",
      "epoch:3/30 |Loss: 0.019161948934197426\n",
      "epoch:4/0 |Loss: 0.018789207562804222\n",
      "epoch:4/10 |Loss: 0.018589572980999947\n",
      "epoch:4/20 |Loss: 0.018668783828616142\n",
      "epoch:4/30 |Loss: 0.019281582906842232\n",
      "max AD score 0.17010297\n",
      "thres: 0.17010297\n"
     ]
    }
   ],
   "source": [
    "# Train an autoencoder-based DL model\n",
    "import numpy as np\n",
    "import torch\n",
    "from autoencoder import train, test, test_plot\n",
    "import sys\n",
    "sys.path.append('../../deepaid/')\n",
    "from utils import validate_by_rmse, Normalizer\n",
    "normer = Normalizer(X_train.shape[-1],online_minmax=False)\n",
    "X_train = normer.fit_transform(X_train)\n",
    "model, thres = train(X_train, X_train.shape[-1])\n",
    "torch.save({'net':model,'thres':thres},'./save/autoencoder.pth.tar')"
   ]
  },
  {
   "cell_type": "code",
   "execution_count": 3,
   "id": "6b7fee81",
   "metadata": {},
   "outputs": [
    {
     "data": {
      "image/png": "[encoded data removed]",
      "text/plain": [
       "<Figure size 432x288 with 1 Axes>"
      ]
     },
     "metadata": {
      "needs_background": "light"
     },
     "output_type": "display_data"
    }
   ],
   "source": [
    "# Validate the performance of trained model\n",
    "X_anomaly_norm = normer.transform(X_anomaly)\n",
    "rmse_vec = test(model,thres,X_anomaly_norm)\n",
    "test_plot(X_anomaly_norm, rmse_vec, thres) # ACC = 100%"
   ]
  },
  {
   "cell_type": "markdown",
   "id": "24a6b113",
   "metadata": {},
   "source": [
    "# Interpret the generated anomalies"
   ]
  },
  {
   "cell_type": "code",
   "execution_count": 4,
   "id": "0cd4f9a2",
   "metadata": {},
   "outputs": [
    {
     "name": "stdout",
     "output_type": "stream",
     "text": [
      "Successfully Initialize <Tabular Interptreter> for Model <autoencoder>\n",
      "Finish Interpretation after 99 steps (Final loss: 45.20, Time elasped: 0.18s)\n",
      "\n",
      "Visualize Interpretation (Table View)\n",
      "+---------------------+------------------+-------+--------------------+\n",
      "| Feature Description | Value in Anomaly | comp. | Value in Reference |\n",
      "+---------------------+------------------+-------+--------------------+\n",
      "|        dim75        |     -401.861     |   <   |      -139.639      |\n",
      "|        dim47        |     -397.636     |   <   |      -140.409      |\n",
      "|        dim78        |     -367.504     |   <   |      -142.016      |\n",
      "|        dim30        |     -322.459     |   <   |      -133.428      |\n",
      "|        dim51        |     -312.959     |   <   |      -134.232      |\n",
      "|        dim58        |     -283.391     |   <   |      -134.909      |\n",
      "|        dim40        |     -287.936     |   <   |      -138.663      |\n",
      "|        dim42        |     -274.255     |   <   |      -135.609      |\n",
      "|        dim84        |     -255.219     |   <   |      -133.98       |\n",
      "|        dim25        |     -249.366     |   <   |      -132.61       |\n",
      "+---------------------+------------------+-------+--------------------+\n",
      "perturb index: [25, 30, 40, 42, 47, 51, 58, 75, 78, 84]\n"
     ]
    }
   ],
   "source": [
    "\"\"\"Load the model\"\"\"\n",
    "from autoencoder import autoencoder\n",
    "from utils import Normalizer\n",
    "model_dict = torch.load('save/autoencoder.pth.tar')\n",
    "model = model_dict['net']\n",
    "thres = model_dict['thres']\n",
    "\n",
    "\n",
    "\"\"\" Create a DeepAID Tabular Interpreter\"\"\"\n",
    "import sys\n",
    "sys.path.append(\"../../deepaid/interpreters/\")\n",
    "from tabular import TabularAID\n",
    "my_interpreter = TabularAID(model,thres,input_size=100,k=10,steps=100,auto_params=False)\n",
    "\n",
    "\"\"\"Interpret the anomalies\"\"\"\n",
    "# for anomaly in X_anomaly:\n",
    "anomaly = X_anomaly[5]\n",
    "interpretation = my_interpreter(anomaly)\n",
    "my_interpreter.show_table(anomaly,interpretation, normer) \n",
    "\n",
    "print('perturb index:',noise_idx)\n"
   ]
  },
  {
   "cell_type": "markdown",
   "id": "c70e9fed",
   "metadata": {},
   "source": [
    "**As we can see that, the Interpreter successfully finds all perturbed dimensions**"
   ]
  }
 ],
 "metadata": {
  "hide_input": false,
  "kernelspec": {
   "display_name": "Python 3 (ipykernel)",
   "language": "python",
   "name": "python3"
  },
  "language_info": {
   "codemirror_mode": {
    "name": "ipython",
    "version": 3
   },
   "file_extension": ".py",
   "mimetype": "text/x-python",
   "name": "python",
   "nbconvert_exporter": "python",
   "pygments_lexer": "ipython3",
   "version": "3.7.11"
  },
  "varInspector": {
   "cols": {
    "lenName": 16,
    "lenType": 16,
    "lenVar": 40
   },
   "kernels_config": {
    "python": {
     "delete_cmd_postfix": "",
     "delete_cmd_prefix": "del ",
     "library": "var_list.py",
     "varRefreshCmd": "print(var_dic_list())"
    },
    "r": {
     "delete_cmd_postfix": ") ",
     "delete_cmd_prefix": "rm(",
     "library": "var_list.r",
     "varRefreshCmd": "cat(var_dic_list()) "
    }
   },
   "types_to_exclude": [
    "module",
    "function",
    "builtin_function_or_method",
    "instance",
    "_Feature"
   ],
   "window_display": false
  }
 },
 "nbformat": 4,
 "nbformat_minor": 5
}
